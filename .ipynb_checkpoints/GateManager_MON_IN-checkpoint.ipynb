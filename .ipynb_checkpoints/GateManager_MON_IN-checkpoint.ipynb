{
 "cells": [
  {
   "cell_type": "code",
   "execution_count": 59,
   "id": "clear-technology",
   "metadata": {},
   "outputs": [],
   "source": [
    "#BUILD BY 강연철 2021.04.01\n",
    "\n",
    "#필요한 라이브러리를 불러옵니다.\n",
    "import tensorflow as tf\n",
    "import numpy as np\n",
    "import os\n",
    "import matplotlib.pyplot as plt\n",
    "import random\n",
    "from pandas.io.parsers import read_csv"
   ]
  },
  {
   "cell_type": "code",
   "execution_count": 60,
   "id": "distinct-career",
   "metadata": {},
   "outputs": [],
   "source": [
    "os.environ['TF_CPP_MIN_LOG_LEVEL'] = '2'"
   ]
  },
  {
   "cell_type": "code",
   "execution_count": 61,
   "id": "narrow-giving",
   "metadata": {},
   "outputs": [],
   "source": [
    "#요일별 데이터를 불러옵니다.\n",
    "data = np.array(read_csv('UID1_MON.csv',sep=','))"
   ]
  },
  {
   "cell_type": "code",
   "execution_count": 62,
   "id": "increased-feeling",
   "metadata": {},
   "outputs": [],
   "source": [
    "#날짜 데이터를 가져옵니다.\n",
    "x_data = data[:, 5]"
   ]
  },
  {
   "cell_type": "code",
   "execution_count": 63,
   "id": "figured-swift",
   "metadata": {},
   "outputs": [],
   "source": [
    "#시간 데이터를 가져옵니다.\n",
    "y_data = data[:, 4]"
   ]
  },
  {
   "cell_type": "code",
   "execution_count": 64,
   "id": "realistic-cameroon",
   "metadata": {},
   "outputs": [],
   "source": [
    "#학습을 위해 랜덤값의 변수로 초기화합니다.\n",
    "a = tf.Variable(random.random())\n",
    "b = tf.Variable(random.random())"
   ]
  },
  {
   "cell_type": "code",
   "execution_count": 65,
   "id": "varied-witness",
   "metadata": {},
   "outputs": [
    {
     "name": "stdout",
     "output_type": "stream",
     "text": [
      "0 a: 0.36557826 b: 0.36955953 loss: 264005400.0\n",
      "100 a: 0.0018748272 b: 0.005856131 loss: 6895.8247\n",
      "200 a: 1.1028498e-05 b: 0.003992322 loss: 0.04154609\n",
      "300 a: 6.4904066e-06 b: 0.003987771 loss: 0.0005447271\n",
      "400 a: 6.4728524e-06 b: 0.003987737 loss: 0.00054410484\n",
      "500 a: 6.4726582e-06 b: 0.003987734 loss: 0.00054410467\n",
      "600 a: 6.4726564e-06 b: 0.003987734 loss: 0.0005441046\n",
      "700 a: 6.4726573e-06 b: 0.003987689 loss: 0.00054410455\n",
      "800 a: 6.4726587e-06 b: 0.0039876425 loss: 0.0005441045\n",
      "900 a: 6.4726596e-06 b: 0.003987596 loss: 0.00054410467\n"
     ]
    }
   ],
   "source": [
    "# 잔차의 제곱의 평균을 반환하는 함수입니다. \n",
    "def compute_loss(): \n",
    "  y_pred = a * x_data + b\n",
    "  loss = tf.reduce_mean((y_data - y_pred) ** 2)\n",
    "  return loss\n",
    "\n",
    "optimizer = tf.optimizers.Adam(lr=0.07)\n",
    "\n",
    "for i in range(1000): \n",
    "  # 잔차의 제곱의 평균을 최소화(minimize) 합니다. \n",
    "  optimizer.minimize(compute_loss, var_list=[a,b])\n",
    "\n",
    "  if i % 100 == 0:\n",
    "    print(i, 'a:', a.numpy(), 'b:', b.numpy(), 'loss:', compute_loss().numpy())\n",
    "\n",
    "line_x = np.arange(min(x_data), max(x_data), 0.01)\n",
    "line_y = a * line_x + b"
   ]
  },
  {
   "cell_type": "code",
   "execution_count": 66,
   "id": "trained-blank",
   "metadata": {},
   "outputs": [
    {
     "data": {
      "image/png": "[encoded data removed]",
      "text/plain": [
       "<Figure size 432x288 with 1 Axes>"
      ]
     },
     "metadata": {
      "needs_background": "light"
     },
     "output_type": "display_data"
    }
   ],
   "source": [
    "# 그래프를 그립니다. \n",
    "plt.plot(line_x, line_y, 'r-')\n",
    "plt.plot(x_data, y_data, 'bo')\n",
    "plt.xlabel('Date')\n",
    "plt.ylabel('EntranceTime')\n",
    "plt.show()"
   ]
  },
  {
   "cell_type": "code",
   "execution_count": null,
   "id": "abandoned-extraction",
   "metadata": {},
   "outputs": [],
   "source": []
  }
 ],
 "metadata": {
  "kernelspec": {
   "display_name": "Python 3",
   "language": "python",
   "name": "python3"
  },
  "language_info": {
   "codemirror_mode": {
    "name": "ipython",
    "version": 3
   },
   "file_extension": ".py",
   "mimetype": "text/x-python",
   "name": "python",
   "nbconvert_exporter": "python",
   "pygments_lexer": "ipython3",
   "version": "3.8.8"
  }
 },
 "nbformat": 4,
 "nbformat_minor": 5
}
