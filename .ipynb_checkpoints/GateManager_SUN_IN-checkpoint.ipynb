{
 "cells": [
  {
   "cell_type": "code",
   "execution_count": null,
   "id": "compressed-toolbox",
   "metadata": {},
   "outputs": [],
   "source": [
    "#BUILD BY 강연철 2021.04.01\n",
    "\n",
    "#필요한 라이브러리를 불러옵니다.\n",
    "import tensorflow as tf\n",
    "import numpy as np\n",
    "import os\n",
    "import matplotlib.pyplot as plt\n",
    "import random\n",
    "from pandas.io.parsers import read_csv\n",
    "import xlrd"
   ]
  },
  {
   "cell_type": "code",
   "execution_count": null,
   "id": "corresponding-performance",
   "metadata": {},
   "outputs": [],
   "source": [
    "os.environ['TF_CPP_MIN_LOG_LEVEL'] = '2'"
   ]
  },
  {
   "cell_type": "code",
   "execution_count": null,
   "id": "constitutional-volleyball",
   "metadata": {},
   "outputs": [],
   "source": [
    "#요일별 데이터를 불러옵니다.\n",
    "data = np.array(read_csv('UID1_SAT_OUT.csv',sep=','))"
   ]
  },
  {
   "cell_type": "code",
   "execution_count": null,
   "id": "muslim-balance",
   "metadata": {},
   "outputs": [],
   "source": [
    "#날짜 데이터를 가져옵니다.\n",
    "x_data = data[:, 5]"
   ]
  },
  {
   "cell_type": "code",
   "execution_count": null,
   "id": "consecutive-funds",
   "metadata": {},
   "outputs": [],
   "source": [
    "#시간 데이터를 가져옵니다.\n",
    "y_data = data[:, 4]"
   ]
  },
  {
   "cell_type": "code",
   "execution_count": null,
   "id": "fancy-forum",
   "metadata": {},
   "outputs": [],
   "source": [
    "#학습을 위해 랜덤값의 변수로 초기화합니다.\n",
    "a = tf.Variable(random.random())\n",
    "b = tf.Variable(random.random())"
   ]
  },
  {
   "cell_type": "code",
   "execution_count": null,
   "id": "applied-photographer",
   "metadata": {},
   "outputs": [],
   "source": [
    "# 잔차의 제곱의 평균을 반환하는 함수입니다. \n",
    "def compute_loss(): \n",
    "  y_pred = a * x_data + b\n",
    "  loss = tf.reduce_mean((y_data - y_pred) ** 2)\n",
    "  return loss\n",
    "\n",
    "optimizer = tf.optimizers.Adam(lr=0.07)\n",
    "\n",
    "for i in range(1000): \n",
    "  # 잔차의 제곱의 평균을 최소화(minimize) 합니다. \n",
    "  optimizer.minimize(compute_loss, var_list=[a,b])\n",
    "\n",
    "  if i % 100 == 0:\n",
    "    print(i, 'a:', a.numpy(), 'b:', b.numpy(), 'loss:', compute_loss().numpy())\n",
    "\n",
    "line_x = np.arange(min(x_data), max(x_data), 0.01)\n",
    "line_y = a * line_x + b"
   ]
  },
  {
   "cell_type": "code",
   "execution_count": null,
   "id": "portuguese-switzerland",
   "metadata": {},
   "outputs": [],
   "source": [
    "# 그래프를 그립니다. \n",
    "plt.plot(line_x, line_y, 'r-')\n",
    "plt.plot(x_data, y_data, 'bo')\n",
    "plt.xlabel('Date')\n",
    "plt.ylabel('EntranceTime')\n",
    "plt.show()"
   ]
  },
  {
   "cell_type": "code",
   "execution_count": null,
   "id": "decreased-hotel",
   "metadata": {},
   "outputs": [],
   "source": [
    "# 다음주의 예상 출/퇴근 시간을 예측합니다.\n",
    "from datetime import time\n",
    "\n",
    "prediction = a * 44625 + b\n",
    "prediction = int(prediction * 24 * 3600)\n",
    "my_time = time(prediction//3600, (prediction%3600)//60, prediction%60) # 시, 분, 초\n",
    "print(my_time)"
   ]
  },
  {
   "cell_type": "code",
   "execution_count": null,
   "id": "american-phoenix",
   "metadata": {},
   "outputs": [],
   "source": []
  },
  {
   "cell_type": "code",
   "execution_count": null,
   "id": "right-thriller",
   "metadata": {},
   "outputs": [],
   "source": []
  }
 ],
 "metadata": {
  "kernelspec": {
   "display_name": "Python 3",
   "language": "python",
   "name": "python3"
  },
  "language_info": {
   "codemirror_mode": {
    "name": "ipython",
    "version": 3
   },
   "file_extension": ".py",
   "mimetype": "text/x-python",
   "name": "python",
   "nbconvert_exporter": "python",
   "pygments_lexer": "ipython3",
   "version": "3.8.8"
  }
 },
 "nbformat": 4,
 "nbformat_minor": 5
}
