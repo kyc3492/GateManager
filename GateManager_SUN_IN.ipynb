{
 "cells": [
  {
   "cell_type": "code",
   "execution_count": 1,
   "id": "compressed-toolbox",
   "metadata": {},
   "outputs": [],
   "source": [
    "#BUILD BY 강연철 2021.04.01\n",
    "\n",
    "#필요한 라이브러리를 불러옵니다.\n",
    "import tensorflow as tf\n",
    "import numpy as np\n",
    "import os\n",
    "import matplotlib.pyplot as plt\n",
    "import random\n",
    "from pandas.io.parsers import read_csv\n",
    "import xlrd"
   ]
  },
  {
   "cell_type": "code",
   "execution_count": 2,
   "id": "corresponding-performance",
   "metadata": {},
   "outputs": [],
   "source": [
    "os.environ['TF_CPP_MIN_LOG_LEVEL'] = '2'"
   ]
  },
  {
   "cell_type": "code",
   "execution_count": 3,
   "id": "constitutional-volleyball",
   "metadata": {},
   "outputs": [],
   "source": [
    "#요일별 데이터를 불러옵니다.\n",
    "data = np.array(read_csv('UID1_SUN.csv',sep=','))"
   ]
  },
  {
   "cell_type": "code",
   "execution_count": 4,
   "id": "muslim-balance",
   "metadata": {},
   "outputs": [],
   "source": [
    "#날짜 데이터를 가져옵니다.\n",
    "x_data = data[:, 5]"
   ]
  },
  {
   "cell_type": "code",
   "execution_count": 5,
   "id": "consecutive-funds",
   "metadata": {},
   "outputs": [],
   "source": [
    "#시간 데이터를 가져옵니다.\n",
    "y_data = data[:, 4]"
   ]
  },
  {
   "cell_type": "code",
   "execution_count": 6,
   "id": "fancy-forum",
   "metadata": {},
   "outputs": [],
   "source": [
    "#학습을 위해 랜덤값의 변수로 초기화합니다.\n",
    "a = tf.Variable(random.random())\n",
    "b = tf.Variable(random.random())"
   ]
  },
  {
   "cell_type": "code",
   "execution_count": 7,
   "id": "applied-photographer",
   "metadata": {},
   "outputs": [
    {
     "name": "stdout",
     "output_type": "stream",
     "text": [
      "0 a: 0.8569588 b: 0.30936727 loss: 1451082800.0\n",
      "100 a: -0.0022673337 b: -0.549859 loss: 10268.8545\n",
      "200 a: -1.2219227e-05 b: -0.54760396 loss: 1.1897606\n",
      "300 a: 1.23460195e-05 b: -0.54757947 loss: 2.9662074e-06\n",
      "400 a: 1.2318387e-05 b: -0.5475795 loss: 1.4872954e-06\n",
      "500 a: 1.2318661e-05 b: -0.5475795 loss: 1.4871524e-06\n",
      "600 a: 1.2318661e-05 b: -0.5475795 loss: 1.4871524e-06\n",
      "700 a: 1.2318661e-05 b: -0.5475795 loss: 1.4871524e-06\n",
      "800 a: 1.2318661e-05 b: -0.5475795 loss: 1.4871524e-06\n",
      "900 a: 1.2318661e-05 b: -0.5475795 loss: 1.4871524e-06\n"
     ]
    }
   ],
   "source": [
    "# 잔차의 제곱의 평균을 반환하는 함수입니다. \n",
    "def compute_loss(): \n",
    "  y_pred = a * x_data + b\n",
    "  loss = tf.reduce_mean((y_data - y_pred) ** 2)\n",
    "  return loss\n",
    "\n",
    "optimizer = tf.optimizers.Adam(lr=0.07)\n",
    "\n",
    "for i in range(1000): \n",
    "  # 잔차의 제곱의 평균을 최소화(minimize) 합니다. \n",
    "  optimizer.minimize(compute_loss, var_list=[a,b])\n",
    "\n",
    "  if i % 100 == 0:\n",
    "    print(i, 'a:', a.numpy(), 'b:', b.numpy(), 'loss:', compute_loss().numpy())\n",
    "\n",
    "line_x = np.arange(min(x_data), max(x_data), 0.01)\n",
    "line_y = a * line_x + b"
   ]
  },
  {
   "cell_type": "code",
   "execution_count": 8,
   "id": "portuguese-switzerland",
   "metadata": {},
   "outputs": [
    {
     "data": {
      "image/png": "[encoded data removed]",
      "text/plain": [
       "<Figure size 432x288 with 1 Axes>"
      ]
     },
     "metadata": {
      "needs_background": "light"
     },
     "output_type": "display_data"
    }
   ],
   "source": [
    "# 그래프를 그립니다. \n",
    "plt.plot(line_x, line_y, 'r-')\n",
    "plt.plot(x_data, y_data, 'bo')\n",
    "plt.xlabel('Date')\n",
    "plt.ylabel('EntranceTime')\n",
    "plt.show()"
   ]
  },
  {
   "cell_type": "code",
   "execution_count": 10,
   "id": "decreased-hotel",
   "metadata": {},
   "outputs": [
    {
     "name": "stdout",
     "output_type": "stream",
     "text": [
      "00:03:06\n"
     ]
    }
   ],
   "source": [
    "# 다음주의 예상 출/퇴근 시간을 예측합니다.\n",
    "from datetime import time\n",
    "\n",
    "prediction = a * 44626 + b\n",
    "prediction = int(prediction * 24 * 3600)\n",
    "my_time = time(prediction//3600, (prediction%3600)//60, prediction%60) # 시, 분, 초\n",
    "print(my_time)"
   ]
  },
  {
   "cell_type": "code",
   "execution_count": null,
   "id": "american-phoenix",
   "metadata": {},
   "outputs": [],
   "source": []
  },
  {
   "cell_type": "code",
   "execution_count": null,
   "id": "right-thriller",
   "metadata": {},
   "outputs": [],
   "source": []
  }
 ],
 "metadata": {
  "kernelspec": {
   "display_name": "Python 3",
   "language": "python",
   "name": "python3"
  },
  "language_info": {
   "codemirror_mode": {
    "name": "ipython",
    "version": 3
   },
   "file_extension": ".py",
   "mimetype": "text/x-python",
   "name": "python",
   "nbconvert_exporter": "python",
   "pygments_lexer": "ipython3",
   "version": "3.8.8"
  }
 },
 "nbformat": 4,
 "nbformat_minor": 5
}
